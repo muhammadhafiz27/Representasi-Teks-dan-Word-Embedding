{
  "nbformat": 4,
  "nbformat_minor": 0,
  "metadata": {
    "colab": {
      "provenance": [],
      "authorship_tag": "ABX9TyMV1HkV91KPQalLrjjVmFSe",
      "include_colab_link": true
    },
    "kernelspec": {
      "name": "python3",
      "display_name": "Python 3"
    },
    "language_info": {
      "name": "python"
    }
  },
  "cells": [
    {
      "cell_type": "markdown",
      "metadata": {
        "id": "view-in-github",
        "colab_type": "text"
      },
      "source": [
        "<a href=\"https://colab.research.google.com/github/muhammadhafiz27/Representasi-Teks-dan-Word-Embedding/blob/main/Representasi_Teks_dan_Word_Embedding.ipynb\" target=\"_parent\"><img src=\"https://colab.research.google.com/assets/colab-badge.svg\" alt=\"Open In Colab\"/></a>"
      ]
    },
    {
      "cell_type": "markdown",
      "source": [
        "# **Import dan Preprocessing Data**"
      ],
      "metadata": {
        "id": "bxvIOHyOKjSR"
      }
    },
    {
      "cell_type": "code",
      "metadata": {
        "colab": {
          "base_uri": "https://localhost:8080/"
        },
        "id": "efef8ed6",
        "outputId": "5a47e525-f314-4028-f9bf-526f3a8af4c9"
      },
      "source": [
        "!pip install Sastrawi"
      ],
      "execution_count": 1,
      "outputs": [
        {
          "output_type": "stream",
          "name": "stdout",
          "text": [
            "Requirement already satisfied: Sastrawi in /usr/local/lib/python3.12/dist-packages (1.0.1)\n"
          ]
        }
      ]
    },
    {
      "cell_type": "code",
      "metadata": {
        "colab": {
          "base_uri": "https://localhost:8080/"
        },
        "id": "9590e02c",
        "outputId": "eda74376-6839-482d-d6d9-0cd90eb16eb5"
      },
      "source": [
        "!pip install gensim"
      ],
      "execution_count": 2,
      "outputs": [
        {
          "output_type": "stream",
          "name": "stdout",
          "text": [
            "Requirement already satisfied: gensim in /usr/local/lib/python3.12/dist-packages (4.3.3)\n",
            "Requirement already satisfied: numpy<2.0,>=1.18.5 in /usr/local/lib/python3.12/dist-packages (from gensim) (1.26.4)\n",
            "Requirement already satisfied: scipy<1.14.0,>=1.7.0 in /usr/local/lib/python3.12/dist-packages (from gensim) (1.13.1)\n",
            "Requirement already satisfied: smart-open>=1.8.1 in /usr/local/lib/python3.12/dist-packages (from gensim) (7.3.1)\n",
            "Requirement already satisfied: wrapt in /usr/local/lib/python3.12/dist-packages (from smart-open>=1.8.1->gensim) (1.17.3)\n"
          ]
        }
      ]
    },
    {
      "cell_type": "code",
      "metadata": {
        "colab": {
          "base_uri": "https://localhost:8080/"
        },
        "id": "7a508e47",
        "outputId": "77948e24-0215-4eea-bb28-2182d9537df0"
      },
      "source": [
        "!python -m spacy download en_core_web_lg"
      ],
      "execution_count": 7,
      "outputs": [
        {
          "output_type": "stream",
          "name": "stdout",
          "text": [
            "Collecting en-core-web-lg==3.8.0\n",
            "  Downloading https://github.com/explosion/spacy-models/releases/download/en_core_web_lg-3.8.0/en_core_web_lg-3.8.0-py3-none-any.whl (400.7 MB)\n",
            "\u001b[2K     \u001b[90m━━━━━━━━━━━━━━━━━━━━━━━━━━━━━━━━━━━━━━━\u001b[0m \u001b[32m400.7/400.7 MB\u001b[0m \u001b[31m4.2 MB/s\u001b[0m eta \u001b[36m0:00:00\u001b[0m\n",
            "\u001b[?25hInstalling collected packages: en-core-web-lg\n",
            "Successfully installed en-core-web-lg-3.8.0\n",
            "\u001b[38;5;2m✔ Download and installation successful\u001b[0m\n",
            "You can now load the package via spacy.load('en_core_web_lg')\n",
            "\u001b[38;5;3m⚠ Restart to reload dependencies\u001b[0m\n",
            "If you are in a Jupyter or Colab notebook, you may need to restart Python in\n",
            "order to load all the package's dependencies. You can do this by selecting the\n",
            "'Restart kernel' or 'Restart runtime' option.\n"
          ]
        }
      ]
    },
    {
      "cell_type": "code",
      "metadata": {
        "colab": {
          "base_uri": "https://localhost:8080/",
          "height": 244
        },
        "id": "3d0d884c",
        "outputId": "caa1331f-c1bc-4482-8270-9a9d2504def3"
      },
      "source": [
        "import pandas as pd\n",
        "import re\n",
        "from Sastrawi.Stemmer.StemmerFactory import StemmerFactory\n",
        "from nltk.corpus import stopwords\n",
        "import nltk\n",
        "\n",
        "# Download necessary NLTK data\n",
        "nltk.download('stopwords')\n",
        "\n",
        "# Load the dataset\n",
        "url = \"https://raw.githubusercontent.com/muhammadhafiz27/Representasi-Teks-dan-Word-Embedding/refs/heads/main/tweet_pendidikan.csv\"\n",
        "df = pd.read_csv(url)\n",
        "\n",
        "# Keep only 50 tweets\n",
        "df = df.head(50)\n",
        "\n",
        "# Function for text preprocessing\n",
        "def preprocess_text(text):\n",
        "    # Convert to lowercase\n",
        "    text = text.lower()\n",
        "    # Remove punctuation, numbers, and URLs\n",
        "    text = re.sub(r'http\\S+|www\\S+|https\\S+', '', text, flags=re.MULTILINE)\n",
        "    text = re.sub(r'\\d+', '', text)\n",
        "    text = re.sub(r'[^\\w\\s]', '', text)\n",
        "    # Remove Indonesian stopwords\n",
        "    stop_words = set(stopwords.words('indonesian'))\n",
        "    text = ' '.join(word for word in text.split() if word not in stop_words)\n",
        "    # Stemming with Sastrawi\n",
        "    factory = StemmerFactory()\n",
        "    stemmer = factory.create_stemmer()\n",
        "    text = stemmer.stem(text)\n",
        "    return text\n",
        "\n",
        "# Apply preprocessing to the 'full_text' column\n",
        "df['processed_tweet'] = df['full_text'].apply(preprocess_text)\n",
        "\n",
        "# Display the original and processed tweets\n",
        "display(df[['full_text', 'processed_tweet']].head())"
      ],
      "execution_count": 3,
      "outputs": [
        {
          "output_type": "stream",
          "name": "stderr",
          "text": [
            "[nltk_data] Downloading package stopwords to /root/nltk_data...\n",
            "[nltk_data]   Package stopwords is already up-to-date!\n"
          ]
        },
        {
          "output_type": "display_data",
          "data": {
            "text/plain": [
              "                                           full_text  \\\n",
              "0  @UnitBerita Sahroni : masih bisa senyum? Tentu...   \n",
              "1  Masuk polisi itu ada test psikologi gaa sih? A...   \n",
              "2  @Na_risa13 @tanyarlfes Padahal pekerjaaan pend...   \n",
              "3  @Hikari_Tamagoyo @EdogawaHikari Kl Muhammadiya...   \n",
              "4  @iniaashaakkk tugas apa nih aayy? kebetulan ak...   \n",
              "\n",
              "                                     processed_tweet  \n",
              "0  unitberita sahroni senyum harap sedih malu lia...  \n",
              "1  masuk polisi test psikologi gaa sih didik bena...  \n",
              "2  na risa tanyarlfes pekerjaaan didik sehat peng...  \n",
              "3  hikari tamagoyo edogawahikari kl muhammadiyah ...  \n",
              "4  iniaashaakkk tugas nih aayy bbrp tim dgn backg...  "
            ],
            "text/html": [
              "\n",
              "  <div id=\"df-364ff8f9-23b2-4164-8a24-2bdd9f152aac\" class=\"colab-df-container\">\n",
              "    <div>\n",
              "<style scoped>\n",
              "    .dataframe tbody tr th:only-of-type {\n",
              "        vertical-align: middle;\n",
              "    }\n",
              "\n",
              "    .dataframe tbody tr th {\n",
              "        vertical-align: top;\n",
              "    }\n",
              "\n",
              "    .dataframe thead th {\n",
              "        text-align: right;\n",
              "    }\n",
              "</style>\n",
              "<table border=\"1\" class=\"dataframe\">\n",
              "  <thead>\n",
              "    <tr style=\"text-align: right;\">\n",
              "      <th></th>\n",
              "      <th>full_text</th>\n",
              "      <th>processed_tweet</th>\n",
              "    </tr>\n",
              "  </thead>\n",
              "  <tbody>\n",
              "    <tr>\n",
              "      <th>0</th>\n",
              "      <td>@UnitBerita Sahroni : masih bisa senyum? Tentu...</td>\n",
              "      <td>unitberita sahroni senyum harap sedih malu lia...</td>\n",
              "    </tr>\n",
              "    <tr>\n",
              "      <th>1</th>\n",
              "      <td>Masuk polisi itu ada test psikologi gaa sih? A...</td>\n",
              "      <td>masuk polisi test psikologi gaa sih didik bena...</td>\n",
              "    </tr>\n",
              "    <tr>\n",
              "      <th>2</th>\n",
              "      <td>@Na_risa13 @tanyarlfes Padahal pekerjaaan pend...</td>\n",
              "      <td>na risa tanyarlfes pekerjaaan didik sehat peng...</td>\n",
              "    </tr>\n",
              "    <tr>\n",
              "      <th>3</th>\n",
              "      <td>@Hikari_Tamagoyo @EdogawaHikari Kl Muhammadiya...</td>\n",
              "      <td>hikari tamagoyo edogawahikari kl muhammadiyah ...</td>\n",
              "    </tr>\n",
              "    <tr>\n",
              "      <th>4</th>\n",
              "      <td>@iniaashaakkk tugas apa nih aayy? kebetulan ak...</td>\n",
              "      <td>iniaashaakkk tugas nih aayy bbrp tim dgn backg...</td>\n",
              "    </tr>\n",
              "  </tbody>\n",
              "</table>\n",
              "</div>\n",
              "    <div class=\"colab-df-buttons\">\n",
              "\n",
              "  <div class=\"colab-df-container\">\n",
              "    <button class=\"colab-df-convert\" onclick=\"convertToInteractive('df-364ff8f9-23b2-4164-8a24-2bdd9f152aac')\"\n",
              "            title=\"Convert this dataframe to an interactive table.\"\n",
              "            style=\"display:none;\">\n",
              "\n",
              "  <svg xmlns=\"http://www.w3.org/2000/svg\" height=\"24px\" viewBox=\"0 -960 960 960\">\n",
              "    <path d=\"M120-120v-720h720v720H120Zm60-500h600v-160H180v160Zm220 220h160v-160H400v160Zm0 220h160v-160H400v160ZM180-400h160v-160H180v160Zm440 0h160v-160H620v160ZM180-180h160v-160H180v160Zm440 0h160v-160H620v160Z\"/>\n",
              "  </svg>\n",
              "    </button>\n",
              "\n",
              "  <style>\n",
              "    .colab-df-container {\n",
              "      display:flex;\n",
              "      gap: 12px;\n",
              "    }\n",
              "\n",
              "    .colab-df-convert {\n",
              "      background-color: #E8F0FE;\n",
              "      border: none;\n",
              "      border-radius: 50%;\n",
              "      cursor: pointer;\n",
              "      display: none;\n",
              "      fill: #1967D2;\n",
              "      height: 32px;\n",
              "      padding: 0 0 0 0;\n",
              "      width: 32px;\n",
              "    }\n",
              "\n",
              "    .colab-df-convert:hover {\n",
              "      background-color: #E2EBFA;\n",
              "      box-shadow: 0px 1px 2px rgba(60, 64, 67, 0.3), 0px 1px 3px 1px rgba(60, 64, 67, 0.15);\n",
              "      fill: #174EA6;\n",
              "    }\n",
              "\n",
              "    .colab-df-buttons div {\n",
              "      margin-bottom: 4px;\n",
              "    }\n",
              "\n",
              "    [theme=dark] .colab-df-convert {\n",
              "      background-color: #3B4455;\n",
              "      fill: #D2E3FC;\n",
              "    }\n",
              "\n",
              "    [theme=dark] .colab-df-convert:hover {\n",
              "      background-color: #434B5C;\n",
              "      box-shadow: 0px 1px 3px 1px rgba(0, 0, 0, 0.15);\n",
              "      filter: drop-shadow(0px 1px 2px rgba(0, 0, 0, 0.3));\n",
              "      fill: #FFFFFF;\n",
              "    }\n",
              "  </style>\n",
              "\n",
              "    <script>\n",
              "      const buttonEl =\n",
              "        document.querySelector('#df-364ff8f9-23b2-4164-8a24-2bdd9f152aac button.colab-df-convert');\n",
              "      buttonEl.style.display =\n",
              "        google.colab.kernel.accessAllowed ? 'block' : 'none';\n",
              "\n",
              "      async function convertToInteractive(key) {\n",
              "        const element = document.querySelector('#df-364ff8f9-23b2-4164-8a24-2bdd9f152aac');\n",
              "        const dataTable =\n",
              "          await google.colab.kernel.invokeFunction('convertToInteractive',\n",
              "                                                    [key], {});\n",
              "        if (!dataTable) return;\n",
              "\n",
              "        const docLinkHtml = 'Like what you see? Visit the ' +\n",
              "          '<a target=\"_blank\" href=https://colab.research.google.com/notebooks/data_table.ipynb>data table notebook</a>'\n",
              "          + ' to learn more about interactive tables.';\n",
              "        element.innerHTML = '';\n",
              "        dataTable['output_type'] = 'display_data';\n",
              "        await google.colab.output.renderOutput(dataTable, element);\n",
              "        const docLink = document.createElement('div');\n",
              "        docLink.innerHTML = docLinkHtml;\n",
              "        element.appendChild(docLink);\n",
              "      }\n",
              "    </script>\n",
              "  </div>\n",
              "\n",
              "\n",
              "    <div id=\"df-f590a4d2-61d2-49d4-8926-eca6c0aaae23\">\n",
              "      <button class=\"colab-df-quickchart\" onclick=\"quickchart('df-f590a4d2-61d2-49d4-8926-eca6c0aaae23')\"\n",
              "                title=\"Suggest charts\"\n",
              "                style=\"display:none;\">\n",
              "\n",
              "<svg xmlns=\"http://www.w3.org/2000/svg\" height=\"24px\"viewBox=\"0 0 24 24\"\n",
              "     width=\"24px\">\n",
              "    <g>\n",
              "        <path d=\"M19 3H5c-1.1 0-2 .9-2 2v14c0 1.1.9 2 2 2h14c1.1 0 2-.9 2-2V5c0-1.1-.9-2-2-2zM9 17H7v-7h2v7zm4 0h-2V7h2v10zm4 0h-2v-4h2v4z\"/>\n",
              "    </g>\n",
              "</svg>\n",
              "      </button>\n",
              "\n",
              "<style>\n",
              "  .colab-df-quickchart {\n",
              "      --bg-color: #E8F0FE;\n",
              "      --fill-color: #1967D2;\n",
              "      --hover-bg-color: #E2EBFA;\n",
              "      --hover-fill-color: #174EA6;\n",
              "      --disabled-fill-color: #AAA;\n",
              "      --disabled-bg-color: #DDD;\n",
              "  }\n",
              "\n",
              "  [theme=dark] .colab-df-quickchart {\n",
              "      --bg-color: #3B4455;\n",
              "      --fill-color: #D2E3FC;\n",
              "      --hover-bg-color: #434B5C;\n",
              "      --hover-fill-color: #FFFFFF;\n",
              "      --disabled-bg-color: #3B4455;\n",
              "      --disabled-fill-color: #666;\n",
              "  }\n",
              "\n",
              "  .colab-df-quickchart {\n",
              "    background-color: var(--bg-color);\n",
              "    border: none;\n",
              "    border-radius: 50%;\n",
              "    cursor: pointer;\n",
              "    display: none;\n",
              "    fill: var(--fill-color);\n",
              "    height: 32px;\n",
              "    padding: 0;\n",
              "    width: 32px;\n",
              "  }\n",
              "\n",
              "  .colab-df-quickchart:hover {\n",
              "    background-color: var(--hover-bg-color);\n",
              "    box-shadow: 0 1px 2px rgba(60, 64, 67, 0.3), 0 1px 3px 1px rgba(60, 64, 67, 0.15);\n",
              "    fill: var(--button-hover-fill-color);\n",
              "  }\n",
              "\n",
              "  .colab-df-quickchart-complete:disabled,\n",
              "  .colab-df-quickchart-complete:disabled:hover {\n",
              "    background-color: var(--disabled-bg-color);\n",
              "    fill: var(--disabled-fill-color);\n",
              "    box-shadow: none;\n",
              "  }\n",
              "\n",
              "  .colab-df-spinner {\n",
              "    border: 2px solid var(--fill-color);\n",
              "    border-color: transparent;\n",
              "    border-bottom-color: var(--fill-color);\n",
              "    animation:\n",
              "      spin 1s steps(1) infinite;\n",
              "  }\n",
              "\n",
              "  @keyframes spin {\n",
              "    0% {\n",
              "      border-color: transparent;\n",
              "      border-bottom-color: var(--fill-color);\n",
              "      border-left-color: var(--fill-color);\n",
              "    }\n",
              "    20% {\n",
              "      border-color: transparent;\n",
              "      border-left-color: var(--fill-color);\n",
              "      border-top-color: var(--fill-color);\n",
              "    }\n",
              "    30% {\n",
              "      border-color: transparent;\n",
              "      border-left-color: var(--fill-color);\n",
              "      border-top-color: var(--fill-color);\n",
              "      border-right-color: var(--fill-color);\n",
              "    }\n",
              "    40% {\n",
              "      border-color: transparent;\n",
              "      border-right-color: var(--fill-color);\n",
              "      border-top-color: var(--fill-color);\n",
              "    }\n",
              "    60% {\n",
              "      border-color: transparent;\n",
              "      border-right-color: var(--fill-color);\n",
              "    }\n",
              "    80% {\n",
              "      border-color: transparent;\n",
              "      border-right-color: var(--fill-color);\n",
              "      border-bottom-color: var(--fill-color);\n",
              "    }\n",
              "    90% {\n",
              "      border-color: transparent;\n",
              "      border-bottom-color: var(--fill-color);\n",
              "    }\n",
              "  }\n",
              "</style>\n",
              "\n",
              "      <script>\n",
              "        async function quickchart(key) {\n",
              "          const quickchartButtonEl =\n",
              "            document.querySelector('#' + key + ' button');\n",
              "          quickchartButtonEl.disabled = true;  // To prevent multiple clicks.\n",
              "          quickchartButtonEl.classList.add('colab-df-spinner');\n",
              "          try {\n",
              "            const charts = await google.colab.kernel.invokeFunction(\n",
              "                'suggestCharts', [key], {});\n",
              "          } catch (error) {\n",
              "            console.error('Error during call to suggestCharts:', error);\n",
              "          }\n",
              "          quickchartButtonEl.classList.remove('colab-df-spinner');\n",
              "          quickchartButtonEl.classList.add('colab-df-quickchart-complete');\n",
              "        }\n",
              "        (() => {\n",
              "          let quickchartButtonEl =\n",
              "            document.querySelector('#df-f590a4d2-61d2-49d4-8926-eca6c0aaae23 button');\n",
              "          quickchartButtonEl.style.display =\n",
              "            google.colab.kernel.accessAllowed ? 'block' : 'none';\n",
              "        })();\n",
              "      </script>\n",
              "    </div>\n",
              "\n",
              "    </div>\n",
              "  </div>\n"
            ],
            "application/vnd.google.colaboratory.intrinsic+json": {
              "type": "dataframe",
              "summary": "{\n  \"name\": \"display(df[['full_text', 'processed_tweet']]\",\n  \"rows\": 5,\n  \"fields\": [\n    {\n      \"column\": \"full_text\",\n      \"properties\": {\n        \"dtype\": \"string\",\n        \"num_unique_values\": 5,\n        \"samples\": [\n          \"Masuk polisi itu ada test psikologi gaa sih? Atau waktu pendidikan di benarkan memukul hingga tewas? Gokil jig masuk polisi bisa menghilangkan empati\",\n          \"@iniaashaakkk tugas apa nih aayy? kebetulan aku punya bbrp tim dgn background pendidikan yg beragam jd siapa tau cocok dgn tugas kamu dikerjain ga pakai AI turnitin open request hasil disesuaikan dgn request dpt free revisi tugas tertentu free cover dafis dapus hasil on time~ harga nego\",\n          \"@Na_risa13 @tanyarlfes Padahal pekerjaaan pendidikan kesehatan sangat berpengaruh sama politik. Hehehe\"\n        ],\n        \"semantic_type\": \"\",\n        \"description\": \"\"\n      }\n    },\n    {\n      \"column\": \"processed_tweet\",\n      \"properties\": {\n        \"dtype\": \"string\",\n        \"num_unique_values\": 5,\n        \"samples\": [\n          \"masuk polisi test psikologi gaa sih didik benar pukul tewas gokil jig masuk polisi hilang empati\",\n          \"iniaashaakkk tugas nih aayy bbrp tim dgn background didik yg agam jd tau cocok dgn tugas dikerjain ga pakai ai turnitin open request hasil sesuai dgn request dpt free revisi tugas free cover dafis dapus hasil on time harga nego\",\n          \"na risa tanyarlfes pekerjaaan didik sehat pengaruh politik hehehe\"\n        ],\n        \"semantic_type\": \"\",\n        \"description\": \"\"\n      }\n    }\n  ]\n}"
            }
          },
          "metadata": {}
        }
      ]
    },
    {
      "cell_type": "markdown",
      "source": [
        "# **Representasi Teks dengan BoW dan TF-IDF**"
      ],
      "metadata": {
        "id": "GFtmJUxSLbl1"
      }
    },
    {
      "cell_type": "code",
      "metadata": {
        "colab": {
          "base_uri": "https://localhost:8080/"
        },
        "id": "dfc41b2c",
        "outputId": "cb41f9ed-0b02-44b5-8824-bc82d5c92563"
      },
      "source": [
        "from sklearn.feature_extraction.text import CountVectorizer\n",
        "\n",
        "# Implement Bag of Words\n",
        "vectorizer = CountVectorizer()\n",
        "bow_matrix = vectorizer.fit_transform(df['processed_tweet'])\n",
        "\n",
        "# Display the BoW matrix\n",
        "print(\"Bag of Words Matrix:\")\n",
        "print(bow_matrix.toarray())\n",
        "\n",
        "# Display the feature names (words)\n",
        "print(\"\\nFeature Names (Words):\")\n",
        "print(vectorizer.get_feature_names_out())"
      ],
      "execution_count": 6,
      "outputs": [
        {
          "output_type": "stream",
          "name": "stdout",
          "text": [
            "Bag of Words Matrix:\n",
            "[[0 0 0 ... 0 0 0]\n",
            " [0 0 0 ... 0 0 0]\n",
            " [0 0 0 ... 0 0 0]\n",
            " ...\n",
            " [0 0 0 ... 0 0 0]\n",
            " [0 0 0 ... 0 0 0]\n",
            " [0 0 0 ... 0 0 0]]\n",
            "\n",
            "Feature Names (Words):\n",
            "['aayy' 'abis' 'adab' 'adil' 'adityanstr' 'adl' 'agam' 'agama' 'ah' 'ai'\n",
            " 'aja' 'ajar' 'akabri' 'akibat' 'akses' 'aku' 'akubucindonat' 'akuu'\n",
            " 'alokasi' 'amanah' 'amp' 'ampkesehatan' 'anak' 'anakanak' 'anggar'\n",
            " 'anggota' 'angklung' 'anjg' 'anjir' 'antekantek' 'apakabar' 'api' 'arti'\n",
            " 'artikel' 'asa' 'asas' 'asbunkan' 'asing' 'asisten' 'awaninews'\n",
            " 'awanipagi' 'ayah' 'ayao' 'baca' 'background' 'bagus' 'bahasa' 'baik'\n",
            " 'bain' 'bal' 'banget' 'bangsa' 'bangun' 'bareng' 'batal' 'batik' 'bawah'\n",
            " 'bayar' 'bbrp' 'bcs' 'beasiswa' 'begoooo' 'beliau' 'benar' 'beneran'\n",
            " 'bentuk' 'ber' 'berangkat' 'bgt' 'bidang' 'bijak' 'bikin' 'bina' 'bjil'\n",
            " 'blm' 'blum' 'bodoh' 'bodohbodoh' 'bom' 'boro' 'bos' 'brfelindra' 'buang'\n",
            " 'budaya' 'bukti' 'buta' 'butuh' 'byk' 'canang' 'canting' 'cantingcap'\n",
            " 'cap' 'capai' 'capek' 'cari' 'cepat' 'cerai' 'chico' 'cinta'\n",
            " 'cnnindonesia' 'cocok' 'company' 'contoh' 'council' 'cover' 'crafts'\n",
            " 'daerah' 'dafis' 'daftar' 'dah' 'damai' 'dampak' 'dana' 'danantara'\n",
            " 'dapet' 'dapus' 'dar' 'daridulu' 'daring' 'dasar' 'deliaramadhan'\n",
            " 'demokrasi' 'derita' 'dgn' 'dhimmy' 'diam' 'didik' 'dikerjain' 'dikit'\n",
            " 'diplomasi' 'diskusi' 'divorcedsingless' 'djojohadikusumo' 'dki' 'dll'\n",
            " 'dlm' 'doang' 'doktrin' 'dorong' 'doyan' 'dpr' 'dpt' 'duit' 'dukung'\n",
            " 'dungu' 'dunia' 'edogawahikari' 'efisiensi' 'ekonomi' 'eksekutif'\n",
            " 'ekspor' 'emosyiii' 'empati' 'enak' 'engga' 'erti' 'essay' 'faktor'\n",
            " 'fashion' 'fasilitas' 'fisik' 'fokus' 'formasi' 'formatting' 'foyafoya'\n",
            " 'free' 'ga' 'gaa' 'gagal' 'gak' 'gambar' 'gambling' 'gamelan' 'ganti'\n",
            " 'gatau' 'gede' 'gegara' 'generasi' 'genre' 'gerak' 'gerindra' 'gersang'\n",
            " 'giat' 'gilllaaaa' 'gitu' 'gizi' 'goda' 'gokil' 'golek' 'gratis' 'gua'\n",
            " 'gubernur' 'guru' 'gw' 'hak' 'hakim' 'halaman' 'han' 'hapus' 'harap'\n",
            " 'harga' 'hasil' 'hehehe' 'henti' 'hidup' 'hikari' 'hilang' 'hipotetis'\n",
            " 'hubung' 'hukum' 'iktiraf' 'ilkom' 'imo' 'indo' 'indonesia' 'inggris'\n",
            " 'iniaashaakkk' 'instansi' 'integriti' 'internet' 'irigasi' 'isi' 'it'\n",
            " 'iya' 'jabat' 'jadidinosaur' 'jaga' 'jakarta' 'jalan' 'jamu' 'janggal'\n",
            " 'jarah' 'jarak' 'jaring' 'jasa' 'jawa' 'jd' 'jdi' 'jig' 'jogja' 'joki'\n",
            " 'jokowi' 'jurnal' 'jurus' 'ka' 'kai' 'kaji' 'kak' 'kalah' 'kalao' 'kalo'\n",
            " 'kalong' 'kampus' 'kantor' 'karir' 'karna' 'katieleung' 'kau' 'kawal'\n",
            " 'kawan' 'kayak' 'kebaya' 'kek' 'keluarga' 'kemarin' 'keren' 'keris'\n",
            " 'ketidakadilan' 'ketidaksetaraan' 'khusus' 'kim' 'kl' 'klaim' 'klitik'\n",
            " 'knp' 'kocak' 'kolintang' 'kompascom' 'komunikasi' 'komunis' 'konsisten'\n",
            " 'kontak' 'kontol' 'korban' 'korupsi' 'koruptor' 'kota' 'kotanusantara'\n",
            " 'kozirama' 'kreatif' 'kritis' 'krn' 'kti' 'ku' 'kualitas' 'kuasa' 'kulit'\n",
            " 'kulitgolekklitik' 'kunci' 'kurang' 'label' 'lahir' 'lakilaki' 'laksana'\n",
            " 'laku' 'langsung' 'lapar' 'latih' 'lawan' 'layak' 'lepas' 'liat' 'lihat'\n",
            " 'lokasi' 'lu' 'lubang' 'lucu' 'lulus' 'luu' 'mabuk' 'madani' 'mah'\n",
            " 'mahasiswa' 'maju' 'majuin' 'makalah' 'makan' 'makar' 'maki' 'makiii'\n",
            " 'malas' 'malaysia' 'malem' 'malu' 'mana' 'manajer' 'marah' 'margin'\n",
            " 'mart' 'mas' 'masalah' 'maslahat' 'masuk' 'masy' 'masyarakat' 'mati'\n",
            " 'mbg' 'mbps' 'mbuat' 'melek' 'mentalitas' 'merk' 'mikir' 'mikirin'\n",
            " 'milih' 'milik' 'min' 'minat' 'mindmap' 'minim' 'miskin' 'mkdu' 'mobil'\n",
            " 'molotov' 'moral' 'msg' 'msh' 'muda' 'muhammadiyah' 'myeongeun' 'na'\n",
            " 'negeri' 'nego' 'ngapain' 'ngetaiin' 'nguasain' 'nih' 'nikah' 'nikmatin'\n",
            " 'nilai' 'noken' 'nya' 'nyangka' 'nyebelin' 'nyogok' 'on' 'open'\n",
            " 'opposisi' 'orang' 'orangorang' 'org' 'ormas' 'otak' 'pada' 'pagi'\n",
            " 'pajak' 'pakai' 'pamer' 'pandu' 'pantun' 'parafraseturunin' 'parlementer'\n",
            " 'parsito' 'partai' 'pcictud' 'pdip' 'pekerjaaan' 'pencak' 'pengaruh'\n",
            " 'pergi' 'perintah' 'petinggi' 'pikir' 'pilih' 'pinisi' 'pisah' 'pjk'\n",
            " 'pkerjaan' 'polisi' 'politik' 'politis' 'polsuska' 'ponorogo' 'poster'\n",
            " 'ppt' 'prabowo' 'prabowoemangnya' 'praktek' 'prediksi' 'presiden'\n",
            " 'program' 'proposal' 'psikologi' 'psikotes' 'puas' 'pukul' 'pulang'\n",
            " 'punk' 'pusat' 'rakyat' 'rasa' 'rata' 'ratarata' 'rawan' 'reading'\n",
            " 'rendah' 'reog' 'request' 'resume' 'review' 'revisi' 'rezeki' 'risa' 'rs'\n",
            " 'rubah' 'rusa' 'rusak' 'rusuh' 'sadar' 'safe' 'sahroni' 'sajam' 'salah'\n",
            " 'saman' 'sampe' 'sarjana' 'satu' 'sayang' 'sda' 'sdanya' 'sdm' 'sechaos'\n",
            " 'sedih' 'sehat' 'sejahtera' 'sekian' 'sekolah' 'selamat' 'semangat'\n",
            " 'sembuh' 'sentuh' 'senyum' 'sesuai' 'shibal' 'sih' 'siksa' 'silat'\n",
            " 'sipil' 'sistem' 'sjahrir' 'skena' 'skenario' 'slta' 'smp' 'solusi'\n",
            " 'sosialis' 'sosmed' 'spesialis' 'sptnya' 'stabil' 'staf' 'status' 'stay'\n",
            " 'subianto' 'subuh' 'sulit' 'sumitro' 'surakarta' 'tahan' 'takbenda'\n",
            " 'takbendawbtb' 'takhayul' 'tamagoyo' 'tampan' 'tanda' 'tani' 'tanyarlfes'\n",
            " 'tara' 'target' 'tari' 'tarot' 'tatamaubelajar' 'tau' 'tdk' 'telegram'\n",
            " 'tempelemg' 'temu' 'tenang' 'tengah' 'tenggelam' 'teroris' 'tes' 'test'\n",
            " 'tetep' 'tewas' 'thdp' 'tim' 'time' 'tinggal' 'titik' 'tp' 'tradisional'\n",
            " 'transum' 'tugas' 'tuh' 'tukang' 'tulis' 'tunjang' 'turnitin' 'turun'\n",
            " 'udah' 'ulah' 'unesco' 'ungkap' 'unitberita' 'unwater' 'urrangawak'\n",
            " 'usaha' 'usia' 'utama' 'utk' 'uuliuuriuu' 'wa' 'wajar' 'wanita' 'waris'\n",
            " 'wayang' 'whoopziiy' 'wkwk' 'woi' 'woo' 'world' 'wowooo' 'ws' 'wts' 'ya'\n",
            " 'yang' 'yewon' 'yg' 'yogyakarta' 'yorselves' 'yuk' 'ywes' 'zonauang']\n"
          ]
        }
      ]
    },
    {
      "cell_type": "code",
      "metadata": {
        "colab": {
          "base_uri": "https://localhost:8080/"
        },
        "id": "1fb3a725",
        "outputId": "eccc6eb3-05c4-4573-e1db-3f7333bd9c2e"
      },
      "source": [
        "from sklearn.feature_extraction.text import TfidfVectorizer\n",
        "\n",
        "# Implement TF-IDF\n",
        "tfidf_vectorizer = TfidfVectorizer()\n",
        "tfidf_matrix = tfidf_vectorizer.fit_transform(df['processed_tweet'])\n",
        "\n",
        "# Display the TF-IDF matrix\n",
        "print(\"TF-IDF Matrix:\")\n",
        "print(tfidf_matrix.toarray())\n",
        "\n",
        "# Display the feature names (words)\n",
        "print(\"\\nFeature Names (Words):\")\n",
        "print(tfidf_vectorizer.get_feature_names_out())"
      ],
      "execution_count": 5,
      "outputs": [
        {
          "output_type": "stream",
          "name": "stdout",
          "text": [
            "TF-IDF Matrix:\n",
            "[[0. 0. 0. ... 0. 0. 0.]\n",
            " [0. 0. 0. ... 0. 0. 0.]\n",
            " [0. 0. 0. ... 0. 0. 0.]\n",
            " ...\n",
            " [0. 0. 0. ... 0. 0. 0.]\n",
            " [0. 0. 0. ... 0. 0. 0.]\n",
            " [0. 0. 0. ... 0. 0. 0.]]\n",
            "\n",
            "Feature Names (Words):\n",
            "['aayy' 'abis' 'adab' 'adil' 'adityanstr' 'adl' 'agam' 'agama' 'ah' 'ai'\n",
            " 'aja' 'ajar' 'akabri' 'akibat' 'akses' 'aku' 'akubucindonat' 'akuu'\n",
            " 'alokasi' 'amanah' 'amp' 'ampkesehatan' 'anak' 'anakanak' 'anggar'\n",
            " 'anggota' 'angklung' 'anjg' 'anjir' 'antekantek' 'apakabar' 'api' 'arti'\n",
            " 'artikel' 'asa' 'asas' 'asbunkan' 'asing' 'asisten' 'awaninews'\n",
            " 'awanipagi' 'ayah' 'ayao' 'baca' 'background' 'bagus' 'bahasa' 'baik'\n",
            " 'bain' 'bal' 'banget' 'bangsa' 'bangun' 'bareng' 'batal' 'batik' 'bawah'\n",
            " 'bayar' 'bbrp' 'bcs' 'beasiswa' 'begoooo' 'beliau' 'benar' 'beneran'\n",
            " 'bentuk' 'ber' 'berangkat' 'bgt' 'bidang' 'bijak' 'bikin' 'bina' 'bjil'\n",
            " 'blm' 'blum' 'bodoh' 'bodohbodoh' 'bom' 'boro' 'bos' 'brfelindra' 'buang'\n",
            " 'budaya' 'bukti' 'buta' 'butuh' 'byk' 'canang' 'canting' 'cantingcap'\n",
            " 'cap' 'capai' 'capek' 'cari' 'cepat' 'cerai' 'chico' 'cinta'\n",
            " 'cnnindonesia' 'cocok' 'company' 'contoh' 'council' 'cover' 'crafts'\n",
            " 'daerah' 'dafis' 'daftar' 'dah' 'damai' 'dampak' 'dana' 'danantara'\n",
            " 'dapet' 'dapus' 'dar' 'daridulu' 'daring' 'dasar' 'deliaramadhan'\n",
            " 'demokrasi' 'derita' 'dgn' 'dhimmy' 'diam' 'didik' 'dikerjain' 'dikit'\n",
            " 'diplomasi' 'diskusi' 'divorcedsingless' 'djojohadikusumo' 'dki' 'dll'\n",
            " 'dlm' 'doang' 'doktrin' 'dorong' 'doyan' 'dpr' 'dpt' 'duit' 'dukung'\n",
            " 'dungu' 'dunia' 'edogawahikari' 'efisiensi' 'ekonomi' 'eksekutif'\n",
            " 'ekspor' 'emosyiii' 'empati' 'enak' 'engga' 'erti' 'essay' 'faktor'\n",
            " 'fashion' 'fasilitas' 'fisik' 'fokus' 'formasi' 'formatting' 'foyafoya'\n",
            " 'free' 'ga' 'gaa' 'gagal' 'gak' 'gambar' 'gambling' 'gamelan' 'ganti'\n",
            " 'gatau' 'gede' 'gegara' 'generasi' 'genre' 'gerak' 'gerindra' 'gersang'\n",
            " 'giat' 'gilllaaaa' 'gitu' 'gizi' 'goda' 'gokil' 'golek' 'gratis' 'gua'\n",
            " 'gubernur' 'guru' 'gw' 'hak' 'hakim' 'halaman' 'han' 'hapus' 'harap'\n",
            " 'harga' 'hasil' 'hehehe' 'henti' 'hidup' 'hikari' 'hilang' 'hipotetis'\n",
            " 'hubung' 'hukum' 'iktiraf' 'ilkom' 'imo' 'indo' 'indonesia' 'inggris'\n",
            " 'iniaashaakkk' 'instansi' 'integriti' 'internet' 'irigasi' 'isi' 'it'\n",
            " 'iya' 'jabat' 'jadidinosaur' 'jaga' 'jakarta' 'jalan' 'jamu' 'janggal'\n",
            " 'jarah' 'jarak' 'jaring' 'jasa' 'jawa' 'jd' 'jdi' 'jig' 'jogja' 'joki'\n",
            " 'jokowi' 'jurnal' 'jurus' 'ka' 'kai' 'kaji' 'kak' 'kalah' 'kalao' 'kalo'\n",
            " 'kalong' 'kampus' 'kantor' 'karir' 'karna' 'katieleung' 'kau' 'kawal'\n",
            " 'kawan' 'kayak' 'kebaya' 'kek' 'keluarga' 'kemarin' 'keren' 'keris'\n",
            " 'ketidakadilan' 'ketidaksetaraan' 'khusus' 'kim' 'kl' 'klaim' 'klitik'\n",
            " 'knp' 'kocak' 'kolintang' 'kompascom' 'komunikasi' 'komunis' 'konsisten'\n",
            " 'kontak' 'kontol' 'korban' 'korupsi' 'koruptor' 'kota' 'kotanusantara'\n",
            " 'kozirama' 'kreatif' 'kritis' 'krn' 'kti' 'ku' 'kualitas' 'kuasa' 'kulit'\n",
            " 'kulitgolekklitik' 'kunci' 'kurang' 'label' 'lahir' 'lakilaki' 'laksana'\n",
            " 'laku' 'langsung' 'lapar' 'latih' 'lawan' 'layak' 'lepas' 'liat' 'lihat'\n",
            " 'lokasi' 'lu' 'lubang' 'lucu' 'lulus' 'luu' 'mabuk' 'madani' 'mah'\n",
            " 'mahasiswa' 'maju' 'majuin' 'makalah' 'makan' 'makar' 'maki' 'makiii'\n",
            " 'malas' 'malaysia' 'malem' 'malu' 'mana' 'manajer' 'marah' 'margin'\n",
            " 'mart' 'mas' 'masalah' 'maslahat' 'masuk' 'masy' 'masyarakat' 'mati'\n",
            " 'mbg' 'mbps' 'mbuat' 'melek' 'mentalitas' 'merk' 'mikir' 'mikirin'\n",
            " 'milih' 'milik' 'min' 'minat' 'mindmap' 'minim' 'miskin' 'mkdu' 'mobil'\n",
            " 'molotov' 'moral' 'msg' 'msh' 'muda' 'muhammadiyah' 'myeongeun' 'na'\n",
            " 'negeri' 'nego' 'ngapain' 'ngetaiin' 'nguasain' 'nih' 'nikah' 'nikmatin'\n",
            " 'nilai' 'noken' 'nya' 'nyangka' 'nyebelin' 'nyogok' 'on' 'open'\n",
            " 'opposisi' 'orang' 'orangorang' 'org' 'ormas' 'otak' 'pada' 'pagi'\n",
            " 'pajak' 'pakai' 'pamer' 'pandu' 'pantun' 'parafraseturunin' 'parlementer'\n",
            " 'parsito' 'partai' 'pcictud' 'pdip' 'pekerjaaan' 'pencak' 'pengaruh'\n",
            " 'pergi' 'perintah' 'petinggi' 'pikir' 'pilih' 'pinisi' 'pisah' 'pjk'\n",
            " 'pkerjaan' 'polisi' 'politik' 'politis' 'polsuska' 'ponorogo' 'poster'\n",
            " 'ppt' 'prabowo' 'prabowoemangnya' 'praktek' 'prediksi' 'presiden'\n",
            " 'program' 'proposal' 'psikologi' 'psikotes' 'puas' 'pukul' 'pulang'\n",
            " 'punk' 'pusat' 'rakyat' 'rasa' 'rata' 'ratarata' 'rawan' 'reading'\n",
            " 'rendah' 'reog' 'request' 'resume' 'review' 'revisi' 'rezeki' 'risa' 'rs'\n",
            " 'rubah' 'rusa' 'rusak' 'rusuh' 'sadar' 'safe' 'sahroni' 'sajam' 'salah'\n",
            " 'saman' 'sampe' 'sarjana' 'satu' 'sayang' 'sda' 'sdanya' 'sdm' 'sechaos'\n",
            " 'sedih' 'sehat' 'sejahtera' 'sekian' 'sekolah' 'selamat' 'semangat'\n",
            " 'sembuh' 'sentuh' 'senyum' 'sesuai' 'shibal' 'sih' 'siksa' 'silat'\n",
            " 'sipil' 'sistem' 'sjahrir' 'skena' 'skenario' 'slta' 'smp' 'solusi'\n",
            " 'sosialis' 'sosmed' 'spesialis' 'sptnya' 'stabil' 'staf' 'status' 'stay'\n",
            " 'subianto' 'subuh' 'sulit' 'sumitro' 'surakarta' 'tahan' 'takbenda'\n",
            " 'takbendawbtb' 'takhayul' 'tamagoyo' 'tampan' 'tanda' 'tani' 'tanyarlfes'\n",
            " 'tara' 'target' 'tari' 'tarot' 'tatamaubelajar' 'tau' 'tdk' 'telegram'\n",
            " 'tempelemg' 'temu' 'tenang' 'tengah' 'tenggelam' 'teroris' 'tes' 'test'\n",
            " 'tetep' 'tewas' 'thdp' 'tim' 'time' 'tinggal' 'titik' 'tp' 'tradisional'\n",
            " 'transum' 'tugas' 'tuh' 'tukang' 'tulis' 'tunjang' 'turnitin' 'turun'\n",
            " 'udah' 'ulah' 'unesco' 'ungkap' 'unitberita' 'unwater' 'urrangawak'\n",
            " 'usaha' 'usia' 'utama' 'utk' 'uuliuuriuu' 'wa' 'wajar' 'wanita' 'waris'\n",
            " 'wayang' 'whoopziiy' 'wkwk' 'woi' 'woo' 'world' 'wowooo' 'ws' 'wts' 'ya'\n",
            " 'yang' 'yewon' 'yg' 'yogyakarta' 'yorselves' 'yuk' 'ywes' 'zonauang']\n"
          ]
        }
      ]
    },
    {
      "cell_type": "markdown",
      "source": [
        "# **Implementasi Word Embedding**"
      ],
      "metadata": {
        "id": "c8ko2VgcL1az"
      }
    },
    {
      "cell_type": "code",
      "metadata": {
        "colab": {
          "base_uri": "https://localhost:8080/",
          "height": 260
        },
        "id": "8e21d469",
        "outputId": "00ca3a64-3bdf-4eaf-cf6f-bbeca7dc3eda"
      },
      "source": [
        "from gensim.models import Word2Vec\n",
        "import numpy as np\n",
        "\n",
        "# Tokenize the processed tweets for Word2Vec\n",
        "tokenized_tweets = [tweet.split() for tweet in df['processed_tweet']]\n",
        "\n",
        "# Train a Word2Vec model\n",
        "# You can adjust the parameters (e.g., vector_size, window, min_count, workers)\n",
        "model = Word2Vec(sentences=tokenized_tweets, vector_size=100, window=5, min_count=1, workers=4)\n",
        "\n",
        "# Function to get the vector representation of a tweet (average of word vectors)\n",
        "def get_tweet_vector(tweet_tokens, model):\n",
        "    vectors = [model.wv[word] for word in tweet_tokens if word in model.wv]\n",
        "    if vectors:\n",
        "        return np.mean(vectors, axis=0)\n",
        "    else:\n",
        "        return np.zeros(model.wv.vector_size) # Return a zero vector for empty tweets\n",
        "\n",
        "# Get vectors for each processed tweet\n",
        "df['word2vec_vector'] = df['processed_tweet'].apply(lambda x: get_tweet_vector(x.split(), model))\n",
        "\n",
        "# Display the Word2Vec vectors for the first few tweets\n",
        "print(\"Word2Vec Vectors:\")\n",
        "display(df['word2vec_vector'].head())"
      ],
      "execution_count": 4,
      "outputs": [
        {
          "output_type": "stream",
          "name": "stdout",
          "text": [
            "Word2Vec Vectors:\n"
          ]
        },
        {
          "output_type": "display_data",
          "data": {
            "text/plain": [
              "0    [0.00095324515, 4.1473348e-05, -0.0014728653, ...\n",
              "1    [-0.00044966317, 0.0005970282, 0.0015444526, 0...\n",
              "2    [0.0012445571, -0.00313004, 0.001400931, -0.00...\n",
              "3    [0.00077250635, 0.001461039, 0.00024213122, 0....\n",
              "4    [0.00083417597, 0.0024229423, 0.00057291193, -...\n",
              "Name: word2vec_vector, dtype: object"
            ],
            "text/html": [
              "<div>\n",
              "<style scoped>\n",
              "    .dataframe tbody tr th:only-of-type {\n",
              "        vertical-align: middle;\n",
              "    }\n",
              "\n",
              "    .dataframe tbody tr th {\n",
              "        vertical-align: top;\n",
              "    }\n",
              "\n",
              "    .dataframe thead th {\n",
              "        text-align: right;\n",
              "    }\n",
              "</style>\n",
              "<table border=\"1\" class=\"dataframe\">\n",
              "  <thead>\n",
              "    <tr style=\"text-align: right;\">\n",
              "      <th></th>\n",
              "      <th>word2vec_vector</th>\n",
              "    </tr>\n",
              "  </thead>\n",
              "  <tbody>\n",
              "    <tr>\n",
              "      <th>0</th>\n",
              "      <td>[0.00095324515, 4.1473348e-05, -0.0014728653, ...</td>\n",
              "    </tr>\n",
              "    <tr>\n",
              "      <th>1</th>\n",
              "      <td>[-0.00044966317, 0.0005970282, 0.0015444526, 0...</td>\n",
              "    </tr>\n",
              "    <tr>\n",
              "      <th>2</th>\n",
              "      <td>[0.0012445571, -0.00313004, 0.001400931, -0.00...</td>\n",
              "    </tr>\n",
              "    <tr>\n",
              "      <th>3</th>\n",
              "      <td>[0.00077250635, 0.001461039, 0.00024213122, 0....</td>\n",
              "    </tr>\n",
              "    <tr>\n",
              "      <th>4</th>\n",
              "      <td>[0.00083417597, 0.0024229423, 0.00057291193, -...</td>\n",
              "    </tr>\n",
              "  </tbody>\n",
              "</table>\n",
              "</div><br><label><b>dtype:</b> object</label>"
            ]
          },
          "metadata": {}
        }
      ]
    },
    {
      "cell_type": "code",
      "metadata": {
        "colab": {
          "base_uri": "https://localhost:8080/",
          "height": 279
        },
        "id": "9b3a591f",
        "outputId": "6880f543-c23c-49b9-bcc0-57fe9765be10"
      },
      "source": [
        "import spacy\n",
        "import numpy as np\n",
        "\n",
        "# Load the large English GloVe model\n",
        "# You might need to adjust the model name depending on the available models in spaCy\n",
        "try:\n",
        "    nlp = spacy.load(\"en_core_web_lg\")\n",
        "except OSError:\n",
        "    print(\"Downloading en_core_web_lg model. Please run the cell again after the download is complete.\")\n",
        "    print(\"python -m spacy download en_core_web_lg\")\n",
        "    exit()\n",
        "\n",
        "\n",
        "# Function to get the GloVe vector representation of a tweet\n",
        "def get_glove_tweet_vector(text, nlp_model):\n",
        "    # Process the text with spaCy\n",
        "    doc = nlp_model(text)\n",
        "    # Get the vectors for each token and average them\n",
        "    vectors = [token.vector for token in doc if token.has_vector]\n",
        "    if vectors:\n",
        "        return np.mean(vectors, axis=0)\n",
        "    else:\n",
        "        return np.zeros(nlp_model.vocab.vectors.shape[1]) # Return a zero vector if no tokens have vectors\n",
        "\n",
        "# Get GloVe vectors for each processed tweet\n",
        "df['glove_vector'] = df['processed_tweet'].apply(lambda x: get_glove_tweet_vector(x, nlp))\n",
        "\n",
        "# Display the GloVe vectors for the first few tweets\n",
        "print(\"\\nGloVe Vectors:\")\n",
        "display(df['glove_vector'].head())"
      ],
      "execution_count": 8,
      "outputs": [
        {
          "output_type": "stream",
          "name": "stdout",
          "text": [
            "\n",
            "GloVe Vectors:\n"
          ]
        },
        {
          "output_type": "display_data",
          "data": {
            "text/plain": [
              "0    [0.14248501, -0.14479034, 0.32503882, 0.208208...\n",
              "1    [0.17612876, 0.11856834, 0.18931106, 0.3517913...\n",
              "2    [0.06278999, -0.34493, 0.06347481, 0.23071201,...\n",
              "3    [0.12325486, -0.17426814, 0.4107184, 0.2322096...\n",
              "4    [-0.0012167487, -0.16000536, 0.090707175, 0.06...\n",
              "Name: glove_vector, dtype: object"
            ],
            "text/html": [
              "<div>\n",
              "<style scoped>\n",
              "    .dataframe tbody tr th:only-of-type {\n",
              "        vertical-align: middle;\n",
              "    }\n",
              "\n",
              "    .dataframe tbody tr th {\n",
              "        vertical-align: top;\n",
              "    }\n",
              "\n",
              "    .dataframe thead th {\n",
              "        text-align: right;\n",
              "    }\n",
              "</style>\n",
              "<table border=\"1\" class=\"dataframe\">\n",
              "  <thead>\n",
              "    <tr style=\"text-align: right;\">\n",
              "      <th></th>\n",
              "      <th>glove_vector</th>\n",
              "    </tr>\n",
              "  </thead>\n",
              "  <tbody>\n",
              "    <tr>\n",
              "      <th>0</th>\n",
              "      <td>[0.14248501, -0.14479034, 0.32503882, 0.208208...</td>\n",
              "    </tr>\n",
              "    <tr>\n",
              "      <th>1</th>\n",
              "      <td>[0.17612876, 0.11856834, 0.18931106, 0.3517913...</td>\n",
              "    </tr>\n",
              "    <tr>\n",
              "      <th>2</th>\n",
              "      <td>[0.06278999, -0.34493, 0.06347481, 0.23071201,...</td>\n",
              "    </tr>\n",
              "    <tr>\n",
              "      <th>3</th>\n",
              "      <td>[0.12325486, -0.17426814, 0.4107184, 0.2322096...</td>\n",
              "    </tr>\n",
              "    <tr>\n",
              "      <th>4</th>\n",
              "      <td>[-0.0012167487, -0.16000536, 0.090707175, 0.06...</td>\n",
              "    </tr>\n",
              "  </tbody>\n",
              "</table>\n",
              "</div><br><label><b>dtype:</b> object</label>"
            ]
          },
          "metadata": {}
        }
      ]
    },
    {
      "cell_type": "markdown",
      "metadata": {
        "id": "8cb59f92"
      },
      "source": [
        "# **Visualisasi Representasi Teks**"
      ]
    },
    {
      "cell_type": "code",
      "metadata": {
        "colab": {
          "base_uri": "https://localhost:8080/",
          "height": 718
        },
        "id": "ea19390f",
        "outputId": "023cbd14-eae8-43d6-e600-4a0c68e3245e"
      },
      "source": [
        "from sklearn.decomposition import PCA\n",
        "import matplotlib.pyplot as plt\n",
        "import seaborn as sns\n",
        "import numpy as np\n",
        "\n",
        "# Convert sparse BoW matrix to a dense numpy array for PCA\n",
        "bow_vectors_2d = bow_matrix.toarray()\n",
        "\n",
        "# Apply PCA to reduce dimension to 2\n",
        "pca_bow = PCA(n_components=2)\n",
        "bow_pca = pca_bow.fit_transform(bow_vectors_2d)\n",
        "\n",
        "# Create a DataFrame for visualization\n",
        "bow_pca_df = pd.DataFrame(bow_pca, columns=['PCA1', 'PCA2'])\n",
        "bow_pca_df['tweet'] = df['processed_tweet'] # Add processed tweet for reference\n",
        "\n",
        "# Visualize BoW PCA\n",
        "plt.figure(figsize=(10, 8))\n",
        "sns.scatterplot(x='PCA1', y='PCA2', data=bow_pca_df)\n",
        "plt.title('Bag of Words Embeddings Visualization (PCA)')\n",
        "plt.xlabel('PCA1')\n",
        "plt.ylabel('PCA2')\n",
        "plt.show()"
      ],
      "execution_count": 12,
      "outputs": [
        {
          "output_type": "display_data",
          "data": {
            "text/plain": [
              "<Figure size 1000x800 with 1 Axes>"
            ],
            "image/png": "[encoded data removed]"
          },
          "metadata": {}
        }
      ]
    },
    {
      "cell_type": "code",
      "metadata": {
        "colab": {
          "base_uri": "https://localhost:8080/",
          "height": 718
        },
        "id": "f410b347",
        "outputId": "58693747-004a-4758-c672-a09244a51ae2"
      },
      "source": [
        "from sklearn.decomposition import PCA\n",
        "import matplotlib.pyplot as plt\n",
        "import seaborn as sns\n",
        "import numpy as np\n",
        "\n",
        "# Convert sparse TF-IDF matrix to a dense numpy array for PCA\n",
        "tfidf_vectors_2d = tfidf_matrix.toarray()\n",
        "\n",
        "\n",
        "# Apply PCA to reduce dimension to 2\n",
        "pca_tfidf = PCA(n_components=2)\n",
        "tfidf_pca = pca_tfidf.fit_transform(tfidf_vectors_2d)\n",
        "\n",
        "# Create a DataFrame for visualization\n",
        "tfidf_pca_df = pd.DataFrame(tfidf_pca, columns=['PCA1', 'PCA2'])\n",
        "tfidf_pca_df['tweet'] = df['processed_tweet'] # Add processed tweet for reference\n",
        "\n",
        "# Visualize TF-IDF PCA\n",
        "plt.figure(figsize=(10, 8))\n",
        "sns.scatterplot(x='PCA1', y='PCA2', data=tfidf_pca_df)\n",
        "plt.title('TF-IDF Embeddings Visualization (PCA)')\n",
        "plt.xlabel('PCA1')\n",
        "plt.ylabel('PCA2')\n",
        "plt.show()"
      ],
      "execution_count": 13,
      "outputs": [
        {
          "output_type": "display_data",
          "data": {
            "text/plain": [
              "<Figure size 1000x800 with 1 Axes>"
            ],
            "image/png": "[encoded data removed]"
          },
          "metadata": {}
        }
      ]
    },
    {
      "cell_type": "code",
      "metadata": {
        "colab": {
          "base_uri": "https://localhost:8080/",
          "height": 718
        },
        "id": "135d86dc",
        "outputId": "a167fa6e-8593-4f1e-9702-1a51343e3304"
      },
      "source": [
        "from sklearn.decomposition import PCA\n",
        "import matplotlib.pyplot as plt\n",
        "import seaborn as sns\n",
        "\n",
        "# Convert list of arrays to a 2D numpy array for PCA\n",
        "word2vec_vectors_2d = np.vstack(df['word2vec_vector'].values)\n",
        "\n",
        "# Apply PCA to reduce dimension to 2\n",
        "pca = PCA(n_components=2)\n",
        "word2vec_pca = pca.fit_transform(word2vec_vectors_2d)\n",
        "\n",
        "# Create a DataFrame for visualization\n",
        "word2vec_pca_df = pd.DataFrame(word2vec_pca, columns=['PCA1', 'PCA2'])\n",
        "word2vec_pca_df['tweet'] = df['processed_tweet'] # Add processed tweet for reference\n",
        "\n",
        "# Visualize Word2Vec PCA\n",
        "plt.figure(figsize=(10, 8))\n",
        "sns.scatterplot(x='PCA1', y='PCA2', data=word2vec_pca_df)\n",
        "plt.title('Word2Vec Embeddings Visualization (PCA)')\n",
        "plt.xlabel('PCA1')\n",
        "plt.ylabel('PCA2')\n",
        "plt.show()"
      ],
      "execution_count": 9,
      "outputs": [
        {
          "output_type": "display_data",
          "data": {
            "text/plain": [
              "<Figure size 1000x800 with 1 Axes>"
            ],
            "image/png": "[encoded data removed]"
          },
          "metadata": {}
        }
      ]
    },
    {
      "cell_type": "code",
      "metadata": {
        "colab": {
          "base_uri": "https://localhost:8080/",
          "height": 718
        },
        "id": "68fcb404",
        "outputId": "9d9d6976-95d0-4047-ffac-e6d8a552109d"
      },
      "source": [
        "from sklearn.decomposition import PCA\n",
        "import matplotlib.pyplot as plt\n",
        "import seaborn as sns\n",
        "import numpy as np\n",
        "\n",
        "# Convert list of arrays to a 2D numpy array for PCA\n",
        "glove_vectors_2d = np.vstack(df['glove_vector'].values)\n",
        "\n",
        "\n",
        "# Apply PCA to reduce dimension to 2\n",
        "pca = PCA(n_components=2)\n",
        "glove_pca = pca.fit_transform(glove_vectors_2d)\n",
        "\n",
        "# Create a DataFrame for visualization\n",
        "glove_pca_df = pd.DataFrame(glove_pca, columns=['PCA1', 'PCA2'])\n",
        "glove_pca_df['tweet'] = df['processed_tweet'] # Add processed tweet for reference\n",
        "\n",
        "# Visualize GloVe PCA\n",
        "plt.figure(figsize=(10, 8))\n",
        "sns.scatterplot(x='PCA1', y='PCA2', data=glove_pca_df)\n",
        "plt.title('GloVe Embeddings Visualization (PCA)')\n",
        "plt.xlabel('PCA1')\n",
        "plt.ylabel('PCA2')\n",
        "plt.show()"
      ],
      "execution_count": 10,
      "outputs": [
        {
          "output_type": "display_data",
          "data": {
            "text/plain": [
              "<Figure size 1000x800 with 1 Axes>"
            ],
            "image/png": "[encoded data removed]"
          },
          "metadata": {}
        }
      ]
    }
  ]
}